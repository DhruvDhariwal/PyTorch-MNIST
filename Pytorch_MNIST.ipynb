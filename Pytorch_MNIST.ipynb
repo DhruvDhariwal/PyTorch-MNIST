{
  "nbformat": 4,
  "nbformat_minor": 0,
  "metadata": {
    "colab": {
      "provenance": [],
      "gpuType": "T4",
      "authorship_tag": "ABX9TyOXBedK3rzetir8U8SjezZ1",
      "include_colab_link": true
    },
    "kernelspec": {
      "name": "python3",
      "display_name": "Python 3"
    },
    "language_info": {
      "name": "python"
    },
    "accelerator": "GPU"
  },
  "cells": [
    {
      "cell_type": "markdown",
      "metadata": {
        "id": "view-in-github",
        "colab_type": "text"
      },
      "source": [
        "<a href=\"https://colab.research.google.com/github/DhruvDhariwal/PyTorch-MNIST/blob/main/Pytorch_MNIST.ipynb\" target=\"_parent\"><img src=\"https://colab.research.google.com/assets/colab-badge.svg\" alt=\"Open In Colab\"/></a>"
      ]
    },
    {
      "cell_type": "code",
      "execution_count": null,
      "metadata": {
        "id": "EUuIpkGCuCJF"
      },
      "outputs": [],
      "source": [
        "import torch\n",
        "from torch import nn\n",
        "\n",
        "import torchvision\n",
        "from torchvision import datasets\n",
        "from torchvision.transforms import ToTensor\n",
        "\n",
        "from torch.utils.data import DataLoader\n",
        "\n",
        "import matplotlib.pyplot as plt"
      ]
    },
    {
      "cell_type": "code",
      "source": [
        "torch.__version__\n",
        "\n",
        "device = 'cuda' if torch.cuda.is_available() else 'cpu'\n",
        "device"
      ],
      "metadata": {
        "id": "gPXJskCruj-4"
      },
      "execution_count": null,
      "outputs": []
    },
    {
      "cell_type": "code",
      "source": [
        "train_data=datasets.MNIST(\n",
        "    root='data',\n",
        "    download=True,\n",
        "    train=True,\n",
        "    transform=ToTensor()\n",
        ")\n",
        "\n",
        "test_data=datasets.MNIST(\n",
        "    root='data',\n",
        "    download=True,\n",
        "    train=False,\n",
        "    transform=ToTensor()\n",
        ")"
      ],
      "metadata": {
        "id": "3mwB0VvDuoXe"
      },
      "execution_count": null,
      "outputs": []
    },
    {
      "cell_type": "code",
      "source": [
        "len(train_data.data), len(train_data.targets), len(test_data.data), len(test_data.targets)"
      ],
      "metadata": {
        "id": "8MGNCj6tvE3T"
      },
      "execution_count": null,
      "outputs": []
    },
    {
      "cell_type": "code",
      "source": [
        "image,label = train_data[0]\n",
        "image.shape, label\n",
        "class_names = train_data.classes\n",
        "class_names"
      ],
      "metadata": {
        "id": "8501QG3mvSrS"
      },
      "execution_count": null,
      "outputs": []
    },
    {
      "cell_type": "code",
      "source": [
        "plt.imshow(image.squeeze(dim=0), cmap='gray')\n",
        "plt.title(label)\n",
        "plt.axis(False)"
      ],
      "metadata": {
        "id": "WXK3JXthvoxO"
      },
      "execution_count": null,
      "outputs": []
    },
    {
      "cell_type": "code",
      "source": [
        "random_index = torch.randint(0, len(train_data), size=(1,)).item()\n",
        "image,label=train_data[random_index]\n",
        "plt.imshow(image.squeeze(dim=0), cmap='gray')\n",
        "plt.title(label)\n",
        "plt.axis(False)"
      ],
      "metadata": {
        "id": "zJXeCcR0v1aP"
      },
      "execution_count": null,
      "outputs": []
    },
    {
      "cell_type": "code",
      "source": [
        "fig=plt.figure(figsize=(8,8))\n",
        "rows,cols=4,4\n",
        "for i in range(1, rows*cols+1):\n",
        "    random_index = torch.randint(0, len(train_data), size=(1,)).item()\n",
        "    image,label=train_data[random_index]\n",
        "    fig.add_subplot(rows,cols,i)\n",
        "    plt.imshow(image.squeeze(), cmap='gray')\n",
        "    plt.title(class_names[label])\n",
        "    plt.axis(False)"
      ],
      "metadata": {
        "id": "MoaRt0B_wXLM"
      },
      "execution_count": null,
      "outputs": []
    },
    {
      "cell_type": "code",
      "source": [
        "class MNISTModel0(nn.Module):\n",
        "    def __init__(self, input_shape:int, hidden_units:int, output_shape:int):\n",
        "        super().__init__()\n",
        "        self.block1 = nn.Sequential(\n",
        "            nn.Conv2d(\n",
        "                in_channels=input_shape,\n",
        "                out_channels=hidden_units,\n",
        "                kernel_size=3,\n",
        "                stride=1,\n",
        "                padding=1\n",
        "            ),\n",
        "            nn.ReLU(),\n",
        "            nn.Conv2d(\n",
        "                in_channels=hidden_units,\n",
        "                out_channels=hidden_units,\n",
        "                kernel_size=3,\n",
        "                stride=1,\n",
        "                padding=1\n",
        "            ),\n",
        "            nn.ReLU(),\n",
        "            nn.MaxPool2d(\n",
        "                kernel_size=2,\n",
        "                stride=2\n",
        "            )\n",
        "        )\n",
        "        self.block2=nn.Sequential(\n",
        "            nn.Conv2d(\n",
        "                in_channels=hidden_units,\n",
        "                out_channels=hidden_units,\n",
        "                kernel_size=3,\n",
        "                stride=1,\n",
        "                padding=1\n",
        "        ),\n",
        "            nn.ReLU(),\n",
        "            nn.Conv2d(\n",
        "                in_channels=hidden_units,\n",
        "                out_channels=hidden_units,\n",
        "                kernel_size=3,\n",
        "                stride=1,\n",
        "                padding=1\n",
        "            ),\n",
        "            nn.ReLU(),\n",
        "            nn.MaxPool2d(\n",
        "                kernel_size=2,\n",
        "                stride=2\n",
        "            )\n",
        "            )\n",
        "        self.classifier=nn.Sequential(\n",
        "            nn.Flatten(),\n",
        "            nn.Linear(in_features=hidden_units*7*7, out_features=output_shape)\n",
        "\n",
        "        )\n",
        "\n",
        "    def forward(self,x:torch.Tensor) -> torch.tensor:\n",
        "            return self.classifier(self.block2(self.block1(x)))"
      ],
      "metadata": {
        "id": "X91cS1A_x9Y6"
      },
      "execution_count": null,
      "outputs": []
    },
    {
      "cell_type": "code",
      "source": [
        "model0 = MNISTModel0(input_shape=1,hidden_units=10,output_shape=10).to(device)\n",
        "model0"
      ],
      "metadata": {
        "id": "WZIQaOW41SI8"
      },
      "execution_count": null,
      "outputs": []
    },
    {
      "cell_type": "code",
      "source": [
        "loss_fn = nn.CrossEntropyLoss()\n",
        "optimiser = torch.optim.SGD(params=model0.parameters(), lr=0.1)"
      ],
      "metadata": {
        "id": "SX7mBH1z1gjZ"
      },
      "execution_count": null,
      "outputs": []
    },
    {
      "cell_type": "code",
      "source": [
        "train_dataloader = DataLoader(dataset=train_data, batch_size=64, shuffle=True)\n",
        "test_dataloader = DataLoader(dataset=test_data, batch_size=64, shuffle=False)"
      ],
      "metadata": {
        "id": "Z9IbIvI32rod"
      },
      "execution_count": null,
      "outputs": []
    },
    {
      "cell_type": "code",
      "source": [
        "def accuracy_fn(y_true, y_pred):\n",
        "    correct = torch.eq(y_true, y_pred).sum().item()\n",
        "    acc = (correct/len(y_pred))*100\n",
        "    return acc"
      ],
      "metadata": {
        "id": "m08JgdEB4X4z"
      },
      "execution_count": null,
      "outputs": []
    },
    {
      "cell_type": "code",
      "source": [
        "from tqdm.auto import tqdm\n",
        "\n",
        "epochs = 3\n",
        "\n",
        "for epoch in tqdm(range(epochs)):\n",
        "    print(f'Epoch {epoch+1} -------')\n",
        "    train_loss = 0\n",
        "    model0.to(device)\n",
        "    model0.train()\n",
        "    for X,y in train_dataloader:\n",
        "        X,y = X.to(device), y.to(device)\n",
        "        y_pred = model0(X)\n",
        "        loss = loss_fn(y_pred, y)\n",
        "        train_loss += loss\n",
        "        optimiser.zero_grad()\n",
        "        loss.backward()\n",
        "        optimiser.step()\n",
        "\n",
        "    train_loss /= len(train_dataloader)\n",
        "    print(f'Train loss: {train_loss:.5f}')\n",
        "    model0.to(device)\n",
        "    model0.eval()\n",
        "    with torch.inference_mode():\n",
        "        test_loss, test_acc = 0,0\n",
        "        for X,y in test_dataloader:\n",
        "            X,y = X.to(device), y.to(device)\n",
        "            test_pred = model0(X)\n",
        "            test_loss += loss_fn(test_pred, y)\n",
        "            test_acc += accuracy_fn(y_true=y, y_pred=test_pred.argmax(dim=1))\n",
        "\n",
        "        test_loss /= len(test_dataloader)\n",
        "        test_acc /= len(test_dataloader)\n",
        "        print(f'Test loss: {test_loss:.5f} | Test Accuracy: {test_acc:.2f}')"
      ],
      "metadata": {
        "id": "DkJ2qu2220BJ"
      },
      "execution_count": null,
      "outputs": []
    },
    {
      "cell_type": "code",
      "source": [
        "# Import tqdm for progress bar\n",
        "from tqdm.auto import tqdm\n",
        "\n",
        "# 1. Make predictions with trained model\n",
        "y_preds = []\n",
        "model0.eval()\n",
        "with torch.inference_mode():\n",
        "  for X, y in tqdm(test_dataloader, desc=\"Making predictions\"):\n",
        "    # Send data and targets to target device\n",
        "    X, y = X.to(device), y.to(device)\n",
        "    # Do the forward pass\n",
        "    y_logit = model0(X)\n",
        "    # Turn predictions from logits -> prediction probabilities -> predictions labels\n",
        "    y_pred = torch.softmax(y_logit, dim=1).argmax(dim=1) # note: perform softmax on the \"logits\" dimension, not \"batch\" dimension (in this case we have a batch size of 32, so can perform on dim=1)\n",
        "    # Put predictions on CPU for evaluation\n",
        "    y_preds.append(y_pred.cpu())\n",
        "# Concatenate list of predictions into a tensor\n",
        "y_pred_tensor = torch.cat(y_preds)"
      ],
      "metadata": {
        "id": "jVvjbPS14A_c"
      },
      "execution_count": null,
      "outputs": []
    },
    {
      "cell_type": "code",
      "source": [
        "# See if torchmetrics exists, if not, install it\n",
        "try:\n",
        "    import torchmetrics, mlxtend\n",
        "    print(f\"mlxtend version: {mlxtend.__version__}\")\n",
        "    assert int(mlxtend.__version__.split(\".\")[1]) >= 19, \"mlxtend verison should be 0.19.0 or higher\"\n",
        "except:\n",
        "    !pip install -q torchmetrics -U mlxtend # <- Note: If you're using Google Colab, this may require restarting the runtime\n",
        "    import torchmetrics, mlxtend\n",
        "    print(f\"mlxtend version: {mlxtend.__version__}\")"
      ],
      "metadata": {
        "id": "3If1pQ8sBVc7"
      },
      "execution_count": null,
      "outputs": []
    },
    {
      "cell_type": "code",
      "source": [
        "# Import mlxtend upgraded version\n",
        "import mlxtend\n",
        "print(mlxtend.__version__)\n",
        "assert int(mlxtend.__version__.split(\".\")[1]) >= 19 # should be version 0.19.0 or higher"
      ],
      "metadata": {
        "id": "txaQQHumBVhH"
      },
      "execution_count": null,
      "outputs": []
    },
    {
      "cell_type": "code",
      "source": [
        "from torchmetrics import ConfusionMatrix\n",
        "from mlxtend.plotting import plot_confusion_matrix\n",
        "\n",
        "# 2. Setup confusion matrix instance and compare predictions to targets\n",
        "confmat = ConfusionMatrix(num_classes=len(class_names), task='multiclass')\n",
        "confmat_tensor = confmat(preds=y_pred_tensor,\n",
        "                         target=test_data.targets)\n",
        "\n",
        "# 3. Plot the confusion matrix\n",
        "fig, ax = plot_confusion_matrix(\n",
        "    conf_mat=confmat_tensor.numpy(), # matplotlib likes working with NumPy\n",
        "    class_names=class_names, # turn the row and column labels into class names\n",
        "    figsize=(10, 7)\n",
        ");"
      ],
      "metadata": {
        "id": "4j_0JVgiBVkp"
      },
      "execution_count": null,
      "outputs": []
    },
    {
      "cell_type": "code",
      "source": [
        "misclassified_images = []\n",
        "misclassified_true_labels = []\n",
        "misclassified_pred_labels = []\n",
        "\n",
        "test_loader = DataLoader(test_data, batch_size=1, shuffle=False)\n",
        "\n",
        "for images, labels in test_loader:\n",
        "    outputs = model0(images)\n",
        "    predicted = torch.max(outputs.data, 1)[1]\n",
        "    if predicted != labels:\n",
        "        misclassified_images.append(images.squeeze().numpy())\n",
        "        misclassified_true_labels.append(labels.item())\n",
        "        misclassified_pred_labels.append(predicted.item())\n",
        "\n",
        "def imshow(img):\n",
        "    plt.imshow(img, cmap='gray')\n",
        "    plt.axis('off')\n",
        "    plt.show()\n",
        "\n",
        "print(f'Total misclassified images: {len(misclassified_images)}')\n",
        "for idx in range(len(misclassified_images)):\n",
        "    print(f'True Label: {misclassified_true_labels[idx]}, Predicted: {misclassified_pred_labels[idx]}')\n",
        "    imshow(misclassified_images[idx])"
      ],
      "metadata": {
        "id": "1yfdhGNFBVnC"
      },
      "execution_count": null,
      "outputs": []
    },
    {
      "cell_type": "code",
      "source": [
        "from pathlib import Path\n",
        "\n",
        "# Create models directory (if it doesn't already exist), see: https://docs.python.org/3/library/pathlib.html#pathlib.Path.mkdir\n",
        "MODEL_PATH = Path(\"models\")\n",
        "MODEL_PATH.mkdir(parents=True, # create parent directories if needed\n",
        "                 exist_ok=True # if models directory already exists, don't error\n",
        ")\n",
        "\n",
        "# Create model save path\n",
        "MODEL_NAME = \"MNIST_Model0.pth\"\n",
        "MODEL_SAVE_PATH = MODEL_PATH / MODEL_NAME\n",
        "\n",
        "# Save the model state dict\n",
        "print(f\"Saving model to: {MODEL_SAVE_PATH}\")\n",
        "torch.save(obj=model0.state_dict(), # only saving the state_dict() only saves the learned parameters\n",
        "           f=MODEL_SAVE_PATH)"
      ],
      "metadata": {
        "id": "ZtoSrnHXBVpZ"
      },
      "execution_count": null,
      "outputs": []
    },
    {
      "cell_type": "code",
      "source": [],
      "metadata": {
        "id": "sbjBVrsxjKWG"
      },
      "execution_count": null,
      "outputs": []
    },
    {
      "cell_type": "code",
      "source": [],
      "metadata": {
        "id": "TT6OWWdzjKYH"
      },
      "execution_count": null,
      "outputs": []
    }
  ]
}